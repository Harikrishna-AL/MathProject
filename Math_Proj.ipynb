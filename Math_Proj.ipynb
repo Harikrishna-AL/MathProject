{
  "nbformat": 4,
  "nbformat_minor": 0,
  "metadata": {
    "colab": {
      "name": "Math_Proj.ipynb",
      "provenance": [],
      "collapsed_sections": [],
      "authorship_tag": "ABX9TyOsm45dfPjsAj65PYI/zX/y",
      "include_colab_link": true
    },
    "kernelspec": {
      "name": "python3",
      "display_name": "Python 3"
    },
    "language_info": {
      "name": "python"
    }
  },
  "cells": [
    {
      "cell_type": "markdown",
      "metadata": {
        "id": "view-in-github",
        "colab_type": "text"
      },
      "source": [
        "<a href=\"https://colab.research.google.com/github/Harikrishna-AL/MathProject/blob/main/Math_Proj.ipynb\" target=\"_parent\"><img src=\"https://colab.research.google.com/assets/colab-badge.svg\" alt=\"Open In Colab\"/></a>"
      ]
    },
    {
      "cell_type": "code",
      "execution_count": null,
      "metadata": {
        "colab": {
          "base_uri": "https://localhost:8080/"
        },
        "id": "7q_JPrTfTX2Z",
        "outputId": "450e5c88-3cbc-4ed6-eecb-6c170623824d"
      },
      "outputs": [
        {
          "output_type": "stream",
          "name": "stdout",
          "text": [
            "www.nasdaq.com/market-activity/stocks/NRG\n",
            "           Date        Open        High  ...       Close   Adj Close     Volume\n",
            "0    2020-01-02   84.900002   86.139999  ...   86.052002   86.052002   47660500\n",
            "1    2020-01-03   88.099998   90.800003  ...   88.601997   88.601997   88892500\n",
            "2    2020-01-06   88.094002   90.311996  ...   90.307999   90.307999   50665000\n",
            "3    2020-01-07   92.279999   94.325996  ...   93.811996   93.811996   89410500\n",
            "4    2020-01-08   94.739998   99.697998  ...   98.428001   98.428001  155721500\n",
            "..          ...         ...         ...  ...         ...         ...        ...\n",
            "248  2020-12-24  642.989990  666.090027  ...  661.770020  661.770020   22865600\n",
            "249  2020-12-28  674.510010  681.400024  ...  663.690002  663.690002   32278600\n",
            "250  2020-12-29  661.000000  669.900024  ...  665.989990  665.989990   22910800\n",
            "251  2020-12-30  672.000000  696.599976  ...  694.780029  694.780029   42846000\n",
            "252  2020-12-31  699.989990  718.719971  ...  705.669983  705.669983   49649900\n",
            "\n",
            "[253 rows x 7 columns]\n"
          ]
        }
      ],
      "source": [
        "import pandas as pd\n",
        "import matplotlib.pyplot as plt\n",
        "from sklearn.model_selection import train_test_split\n",
        "import requests\n",
        "import csv\n",
        "url = 'http://api.marketstack.com/v1/tickers?access_key=dd3a2e191efbf0af92a61e70a1d180be'\n",
        "data = requests.get(url).json()\n",
        "\n",
        "sym = 'NRG'\n",
        "y = len(data['data'])\n",
        "for i in range(y):\n",
        "  if data['data'][i]['symbol'] == sym:\n",
        "    base_link = data['data'][i]['stock_exchange']['website']\n",
        "    link = base_link + '/market-activity/stocks/' + sym\n",
        "    print(link)\n",
        "    break\n",
        "  else:\n",
        "    link = 'www.nasdaq.com/market-activity/stocks/' + sym\n",
        "    print(link)\n",
        "    break\n",
        "df = pd.read_csv('TSLA.csv')\n",
        "print(df)\n"
      ]
    },
    {
      "cell_type": "code",
      "source": [
        "df.set_index(pd.DatetimeIndex(df['Date']), inplace=True)\n",
        "df = df[['Adj Close']]\n",
        "print(df)"
      ],
      "metadata": {
        "colab": {
          "base_uri": "https://localhost:8080/"
        },
        "id": "W3eAhtLXVJXR",
        "outputId": "fca0e0ea-314b-4e5b-b39f-e5a980428059"
      },
      "execution_count": null,
      "outputs": [
        {
          "output_type": "stream",
          "name": "stdout",
          "text": [
            "             Adj Close\n",
            "Date                  \n",
            "2020-01-02   86.052002\n",
            "2020-01-03   88.601997\n",
            "2020-01-06   90.307999\n",
            "2020-01-07   93.811996\n",
            "2020-01-08   98.428001\n",
            "...                ...\n",
            "2020-12-24  661.770020\n",
            "2020-12-28  663.690002\n",
            "2020-12-29  665.989990\n",
            "2020-12-30  694.780029\n",
            "2020-12-31  705.669983\n",
            "\n",
            "[253 rows x 1 columns]\n"
          ]
        }
      ]
    },
    {
      "cell_type": "code",
      "source": [
        "plt.plot(df[['Adj Close']])"
      ],
      "metadata": {
        "colab": {
          "base_uri": "https://localhost:8080/",
          "height": 282
        },
        "id": "qrg6AtFZXONJ",
        "outputId": "427b1524-17fc-4d8a-a8ce-5f744dca202b"
      },
      "execution_count": null,
      "outputs": [
        {
          "output_type": "execute_result",
          "data": {
            "text/plain": [
              "[<matplotlib.lines.Line2D at 0x7fc2aca85590>]"
            ]
          },
          "metadata": {},
          "execution_count": 3
        },
        {
          "output_type": "display_data",
          "data": {
            "image/png": "[encoded data removed]",
            "text/plain": [
              "<Figure size 432x288 with 1 Axes>"
            ]
          },
          "metadata": {
            "needs_background": "light"
          }
        }
      ]
    },
    {
      "cell_type": "code",
      "source": [
        "pip install pandas_ta\n"
      ],
      "metadata": {
        "colab": {
          "base_uri": "https://localhost:8080/"
        },
        "id": "dA59otjNZODu",
        "outputId": "6ccef121-aeeb-4cb8-d5b8-1a4bb6a2889a"
      },
      "execution_count": null,
      "outputs": [
        {
          "output_type": "stream",
          "name": "stdout",
          "text": [
            "Collecting pandas_ta\n",
            "  Downloading pandas_ta-0.3.14b.tar.gz (115 kB)\n",
            "\u001b[?25l\r\u001b[K     |██▉                             | 10 kB 25.3 MB/s eta 0:00:01\r\u001b[K     |█████▊                          | 20 kB 10.4 MB/s eta 0:00:01\r\u001b[K     |████████▌                       | 30 kB 6.8 MB/s eta 0:00:01\r\u001b[K     |███████████▍                    | 40 kB 6.3 MB/s eta 0:00:01\r\u001b[K     |██████████████▎                 | 51 kB 5.0 MB/s eta 0:00:01\r\u001b[K     |█████████████████               | 61 kB 5.1 MB/s eta 0:00:01\r\u001b[K     |████████████████████            | 71 kB 5.1 MB/s eta 0:00:01\r\u001b[K     |██████████████████████▊         | 81 kB 5.6 MB/s eta 0:00:01\r\u001b[K     |█████████████████████████▋      | 92 kB 5.6 MB/s eta 0:00:01\r\u001b[K     |████████████████████████████▌   | 102 kB 4.9 MB/s eta 0:00:01\r\u001b[K     |███████████████████████████████▎| 112 kB 4.9 MB/s eta 0:00:01\r\u001b[K     |████████████████████████████████| 115 kB 4.9 MB/s \n",
            "\u001b[?25hRequirement already satisfied: pandas in /usr/local/lib/python3.7/dist-packages (from pandas_ta) (1.1.5)\n",
            "Requirement already satisfied: numpy>=1.15.4 in /usr/local/lib/python3.7/dist-packages (from pandas->pandas_ta) (1.19.5)\n",
            "Requirement already satisfied: python-dateutil>=2.7.3 in /usr/local/lib/python3.7/dist-packages (from pandas->pandas_ta) (2.8.2)\n",
            "Requirement already satisfied: pytz>=2017.2 in /usr/local/lib/python3.7/dist-packages (from pandas->pandas_ta) (2018.9)\n",
            "Requirement already satisfied: six>=1.5 in /usr/local/lib/python3.7/dist-packages (from python-dateutil>=2.7.3->pandas->pandas_ta) (1.15.0)\n",
            "Building wheels for collected packages: pandas-ta\n",
            "  Building wheel for pandas-ta (setup.py) ... \u001b[?25l\u001b[?25hdone\n",
            "  Created wheel for pandas-ta: filename=pandas_ta-0.3.14b0-py3-none-any.whl size=218923 sha256=0c032dbb86e46020093902be8eb97da17e96781087085e49fd4d78bfbeb71de9\n",
            "  Stored in directory: /root/.cache/pip/wheels/0b/81/f0/cca85757840e4616a2c6b9fe12569d97d324c27cac60724c58\n",
            "Successfully built pandas-ta\n",
            "Installing collected packages: pandas-ta\n",
            "Successfully installed pandas-ta-0.3.14b0\n"
          ]
        }
      ]
    },
    {
      "cell_type": "code",
      "source": [
        "import pandas_ta\n",
        "df.ta.ema(close='Adj Close', length=10, append=True)\n",
        "df= df.iloc[10:]\n",
        "print(df.head())"
      ],
      "metadata": {
        "colab": {
          "base_uri": "https://localhost:8080/"
        },
        "id": "AV6g0BoXZ2Zz",
        "outputId": "e7ebc467-a19b-4cfa-fb3f-43f00f972acc"
      },
      "execution_count": null,
      "outputs": [
        {
          "output_type": "stream",
          "name": "stdout",
          "text": [
            "             Adj Close      EMA_10\n",
            "Date                              \n",
            "2020-01-16  102.697998   97.656035\n",
            "2020-01-17  102.099998   98.464028\n",
            "2020-01-21  109.440002  100.459660\n",
            "2020-01-22  113.912003  102.905540\n",
            "2020-01-23  114.440002  105.002715\n"
          ]
        }
      ]
    },
    {
      "cell_type": "code",
      "source": [
        "plt.plot(df[['EMA_10']])\n",
        "plt.plot(df[['Adj Close']])"
      ],
      "metadata": {
        "colab": {
          "base_uri": "https://localhost:8080/",
          "height": 282
        },
        "id": "FlbXe1i9aqGq",
        "outputId": "f443a6ef-333d-46d2-bd2a-5c3565a96a95"
      },
      "execution_count": null,
      "outputs": [
        {
          "output_type": "execute_result",
          "data": {
            "text/plain": [
              "[<matplotlib.lines.Line2D at 0x7fc2abdfc090>]"
            ]
          },
          "metadata": {},
          "execution_count": 6
        },
        {
          "output_type": "display_data",
          "data": {
            "image/png": "[encoded data removed]",
            "text/plain": [
              "<Figure size 432x288 with 1 Axes>"
            ]
          },
          "metadata": {
            "needs_background": "light"
          }
        }
      ]
    },
    {
      "cell_type": "code",
      "source": [
        "X_train, X_test, y_train, y_test = train_test_split(df[['Adj Close']], df[['EMA_10']], test_size=.2)"
      ],
      "metadata": {
        "id": "R2pF18G0Hruz"
      },
      "execution_count": null,
      "outputs": []
    },
    {
      "cell_type": "code",
      "source": [
        "print(X_test.describe())\n",
        "print(X_train.describe())"
      ],
      "metadata": {
        "colab": {
          "base_uri": "https://localhost:8080/"
        },
        "id": "TLpr9iMWLMOG",
        "outputId": "33b16659-5fa0-4bfb-b12d-a852c4fc5e50"
      },
      "execution_count": null,
      "outputs": [
        {
          "output_type": "stream",
          "name": "stdout",
          "text": [
            "        Adj Close\n",
            "count   49.000000\n",
            "mean   324.078692\n",
            "std    157.384141\n",
            "min     72.244003\n",
            "25%    163.774002\n",
            "50%    299.821991\n",
            "75%    425.920013\n",
            "max    649.859985\n",
            "        Adj Close\n",
            "count  194.000000\n",
            "mean   291.361062\n",
            "std    169.974560\n",
            "min     85.505997\n",
            "25%    150.484497\n",
            "50%    210.486000\n",
            "75%    420.892510\n",
            "max    705.669983\n"
          ]
        }
      ]
    },
    {
      "cell_type": "code",
      "source": [
        "from sklearn.linear_model import LinearRegression\n",
        "model = LinearRegression()\n",
        "model.fit(X_train, y_train)\n",
        "y_pred = model.predict(X_test)\n",
        "#print(y_pred)\n",
        "plt.plot(X_test,y_pred)\n",
        "plt.scatter(X_test,y_test,color=\"orange\")"
      ],
      "metadata": {
        "id": "Im8jFf1LLef6",
        "colab": {
          "base_uri": "https://localhost:8080/",
          "height": 282
        },
        "outputId": "416485b0-a1ea-44c5-9f9a-f9fcd2398796"
      },
      "execution_count": null,
      "outputs": [
        {
          "output_type": "execute_result",
          "data": {
            "text/plain": [
              "<matplotlib.collections.PathCollection at 0x7fc2abb70ad0>"
            ]
          },
          "metadata": {},
          "execution_count": 11
        },
        {
          "output_type": "display_data",
          "data": {
            "image/png": "[encoded data removed]",
            "text/plain": [
              "<Figure size 432x288 with 1 Axes>"
            ]
          },
          "metadata": {
            "needs_background": "light"
          }
        }
      ]
    },
    {
      "cell_type": "code",
      "source": [
        "from sklearn.metrics import mean_squared_error, r2_score, mean_absolute_error\n",
        "\n",
        "print(\"Model Coefficients:\", model.coef_)\n",
        "print(\"Mean Absolute Error:\", mean_absolute_error(y_test, y_pred))\n",
        "print(\"Coefficient of Determination:\", r2_score(y_test, y_pred))\n",
        "\n"
      ],
      "metadata": {
        "colab": {
          "base_uri": "https://localhost:8080/"
        },
        "id": "GORyuMU5MAOD",
        "outputId": "8db40325-d3a2-4788-be39-3f1e135062ae"
      },
      "execution_count": null,
      "outputs": [
        {
          "output_type": "stream",
          "name": "stdout",
          "text": [
            "Model Coefficients: [[0.94051982]]\n",
            "Mean Absolute Error: 15.465543262607364\n",
            "Coefficient of Determination: 0.9835690837021237\n"
          ]
        }
      ]
    }
  ]
}